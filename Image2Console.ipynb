{
 "cells": [
  {
   "cell_type": "code",
   "execution_count": 17,
   "id": "1070c541",
   "metadata": {},
   "outputs": [],
   "source": [
    "import numpy as np\n",
    "from termcolor import cprint"
   ]
  },
  {
   "cell_type": "code",
   "execution_count": 18,
   "id": "7d530ab2",
   "metadata": {},
   "outputs": [],
   "source": [
    "x = np.array([[1,0,0],\n",
    "              [0,1,1],\n",
    "              [0,0,1]])"
   ]
  },
  {
   "cell_type": "code",
   "execution_count": 19,
   "id": "9099cc29",
   "metadata": {},
   "outputs": [
    {
     "name": "stdout",
     "output_type": "stream",
     "text": [
      "100\n",
      "011\n",
      "001\n"
     ]
    }
   ],
   "source": [
    "for row in x: \n",
    "    for item in row: \n",
    "        print(item, end = '')\n",
    "    print()"
   ]
  },
  {
   "cell_type": "code",
   "execution_count": 35,
   "id": "40103761",
   "metadata": {},
   "outputs": [
    {
     "name": "stdout",
     "output_type": "stream",
     "text": [
      "1\u001b[7m0\u001b[0m\u001b[7m0\u001b[0m\n",
      "\u001b[7m0\u001b[0m11\n",
      "\u001b[7m0\u001b[0m\u001b[7m0\u001b[0m1\n"
     ]
    }
   ],
   "source": [
    "def img_binary (array):\n",
    "    for row in array: \n",
    "        for item in row: \n",
    "            if item == 0:\n",
    "                cprint(item, attrs=['reverse'], end = '')\n",
    "            else:\n",
    "                print(item, end = '')\n",
    "        print()\n",
    "        \n",
    "img_binary(x)"
   ]
  },
  {
   "cell_type": "code",
   "execution_count": 43,
   "id": "006ace6e",
   "metadata": {},
   "outputs": [
    {
     "name": "stdout",
     "output_type": "stream",
     "text": [
      "  \u001b[7m  \u001b[0m\u001b[7m  \u001b[0m\n",
      "\u001b[7m  \u001b[0m    \n",
      "\u001b[7m  \u001b[0m\u001b[7m  \u001b[0m  \n"
     ]
    }
   ],
   "source": [
    "def img_console (array):\n",
    "    for row in array: \n",
    "        for item in row: \n",
    "            if item == 0:\n",
    "                cprint('  ', attrs=['reverse'], end = '')\n",
    "            else:\n",
    "                print('  ', end = '')\n",
    "        print()\n",
    "        \n",
    "img_console(x)"
   ]
  },
  {
   "cell_type": "code",
   "execution_count": 44,
   "id": "69794df6",
   "metadata": {},
   "outputs": [],
   "source": [
    "import cv2"
   ]
  },
  {
   "cell_type": "code",
   "execution_count": 60,
   "id": "4e0e8a7b",
   "metadata": {},
   "outputs": [],
   "source": [
    "img = cv2.imread('flor.png')\n",
    "\n",
    "img = cv2.resize(img, (28,28), interpolation = cv2.INTER_AREA)\n",
    "bw = cv2.cvtColor(img, cv2.COLOR_BGR2GRAY)\n",
    "bw[bw <= 128] = 0\n",
    "bw[bw > 128] = 1"
   ]
  },
  {
   "cell_type": "code",
   "execution_count": 61,
   "id": "d52549cb",
   "metadata": {},
   "outputs": [
    {
     "name": "stdout",
     "output_type": "stream",
     "text": [
      "                                                        \n",
      "                                                        \n",
      "                                                        \n",
      "                      \u001b[7m  \u001b[0m\u001b[7m  \u001b[0m\u001b[7m  \u001b[0m\u001b[7m  \u001b[0m\u001b[7m  \u001b[0m\u001b[7m  \u001b[0m\u001b[7m  \u001b[0m\u001b[7m  \u001b[0m                  \n",
      "                    \u001b[7m  \u001b[0m\u001b[7m  \u001b[0m    \u001b[7m  \u001b[0m      \u001b[7m  \u001b[0m                  \n",
      "              \u001b[7m  \u001b[0m\u001b[7m  \u001b[0m\u001b[7m  \u001b[0m\u001b[7m  \u001b[0m      \u001b[7m  \u001b[0m      \u001b[7m  \u001b[0m                  \n",
      "            \u001b[7m  \u001b[0m\u001b[7m  \u001b[0m    \u001b[7m  \u001b[0m\u001b[7m  \u001b[0m\u001b[7m  \u001b[0m  \u001b[7m  \u001b[0m    \u001b[7m  \u001b[0m\u001b[7m  \u001b[0m\u001b[7m  \u001b[0m\u001b[7m  \u001b[0m\u001b[7m  \u001b[0m\u001b[7m  \u001b[0m\u001b[7m  \u001b[0m        \n",
      "            \u001b[7m  \u001b[0m  \u001b[7m  \u001b[0m\u001b[7m  \u001b[0m\u001b[7m  \u001b[0m  \u001b[7m  \u001b[0m  \u001b[7m  \u001b[0m\u001b[7m  \u001b[0m\u001b[7m  \u001b[0m            \u001b[7m  \u001b[0m        \n",
      "            \u001b[7m  \u001b[0m  \u001b[7m  \u001b[0m  \u001b[7m  \u001b[0m\u001b[7m  \u001b[0m\u001b[7m  \u001b[0m\u001b[7m  \u001b[0m\u001b[7m  \u001b[0m\u001b[7m  \u001b[0m\u001b[7m  \u001b[0m\u001b[7m  \u001b[0m\u001b[7m  \u001b[0m\u001b[7m  \u001b[0m\u001b[7m  \u001b[0m\u001b[7m  \u001b[0m  \u001b[7m  \u001b[0m        \n",
      "            \u001b[7m  \u001b[0m\u001b[7m  \u001b[0m    \u001b[7m  \u001b[0m\u001b[7m  \u001b[0m\u001b[7m  \u001b[0m        \u001b[7m  \u001b[0m\u001b[7m  \u001b[0m\u001b[7m  \u001b[0m                \n",
      "              \u001b[7m  \u001b[0m\u001b[7m  \u001b[0m\u001b[7m  \u001b[0m\u001b[7m  \u001b[0m\u001b[7m  \u001b[0m          \u001b[7m  \u001b[0m\u001b[7m  \u001b[0m\u001b[7m  \u001b[0m\u001b[7m  \u001b[0m\u001b[7m  \u001b[0m            \n",
      "              \u001b[7m  \u001b[0m\u001b[7m  \u001b[0m    \u001b[7m  \u001b[0m\u001b[7m  \u001b[0m      \u001b[7m  \u001b[0m\u001b[7m  \u001b[0m\u001b[7m  \u001b[0m                  \n",
      "            \u001b[7m  \u001b[0m\u001b[7m  \u001b[0m    \u001b[7m  \u001b[0m\u001b[7m  \u001b[0m\u001b[7m  \u001b[0m\u001b[7m  \u001b[0m\u001b[7m  \u001b[0m\u001b[7m  \u001b[0m\u001b[7m  \u001b[0m  \u001b[7m  \u001b[0m\u001b[7m  \u001b[0m                \n",
      "            \u001b[7m  \u001b[0m    \u001b[7m  \u001b[0m\u001b[7m  \u001b[0m    \u001b[7m  \u001b[0m  \u001b[7m  \u001b[0m\u001b[7m  \u001b[0m    \u001b[7m  \u001b[0m\u001b[7m  \u001b[0m              \n",
      "            \u001b[7m  \u001b[0m  \u001b[7m  \u001b[0m\u001b[7m  \u001b[0m    \u001b[7m  \u001b[0m\u001b[7m  \u001b[0m    \u001b[7m  \u001b[0m\u001b[7m  \u001b[0m    \u001b[7m  \u001b[0m\u001b[7m  \u001b[0m            \n",
      "            \u001b[7m  \u001b[0m        \u001b[7m  \u001b[0m\u001b[7m  \u001b[0m\u001b[7m  \u001b[0m      \u001b[7m  \u001b[0m      \u001b[7m  \u001b[0m            \n",
      "            \u001b[7m  \u001b[0m\u001b[7m  \u001b[0m\u001b[7m  \u001b[0m\u001b[7m  \u001b[0m\u001b[7m  \u001b[0m\u001b[7m  \u001b[0m\u001b[7m  \u001b[0m\u001b[7m  \u001b[0m\u001b[7m  \u001b[0m            \u001b[7m  \u001b[0m            \n",
      "                      \u001b[7m  \u001b[0m    \u001b[7m  \u001b[0m\u001b[7m  \u001b[0m\u001b[7m  \u001b[0m\u001b[7m  \u001b[0m\u001b[7m  \u001b[0m\u001b[7m  \u001b[0m\u001b[7m  \u001b[0m              \n",
      "    \u001b[7m  \u001b[0m\u001b[7m  \u001b[0m\u001b[7m  \u001b[0m\u001b[7m  \u001b[0m\u001b[7m  \u001b[0m\u001b[7m  \u001b[0m\u001b[7m  \u001b[0m\u001b[7m  \u001b[0m\u001b[7m  \u001b[0m                                  \n",
      "  \u001b[7m  \u001b[0m\u001b[7m  \u001b[0m\u001b[7m  \u001b[0m\u001b[7m  \u001b[0m\u001b[7m  \u001b[0m\u001b[7m  \u001b[0m    \u001b[7m  \u001b[0m\u001b[7m  \u001b[0m                          \u001b[7m  \u001b[0m      \n",
      "\u001b[7m  \u001b[0m\u001b[7m  \u001b[0m  \u001b[7m  \u001b[0m    \u001b[7m  \u001b[0m    \u001b[7m  \u001b[0m\u001b[7m  \u001b[0m\u001b[7m  \u001b[0m                      \u001b[7m  \u001b[0m\u001b[7m  \u001b[0m      \n",
      "          \u001b[7m  \u001b[0m\u001b[7m  \u001b[0m    \u001b[7m  \u001b[0m  \u001b[7m  \u001b[0m\u001b[7m  \u001b[0m\u001b[7m  \u001b[0m        \u001b[7m  \u001b[0m\u001b[7m  \u001b[0m\u001b[7m  \u001b[0m\u001b[7m  \u001b[0m\u001b[7m  \u001b[0m\u001b[7m  \u001b[0m        \n",
      "    \u001b[7m  \u001b[0m    \u001b[7m  \u001b[0m      \u001b[7m  \u001b[0m      \u001b[7m  \u001b[0m\u001b[7m  \u001b[0m\u001b[7m  \u001b[0m\u001b[7m  \u001b[0m\u001b[7m  \u001b[0m\u001b[7m  \u001b[0m\u001b[7m  \u001b[0m\u001b[7m  \u001b[0m\u001b[7m  \u001b[0m            \n",
      "    \u001b[7m  \u001b[0m  \u001b[7m  \u001b[0m\u001b[7m  \u001b[0m    \u001b[7m  \u001b[0m                    \u001b[7m  \u001b[0m  \u001b[7m  \u001b[0m\u001b[7m  \u001b[0m          \n",
      "    \u001b[7m  \u001b[0m\u001b[7m  \u001b[0m\u001b[7m  \u001b[0m      \u001b[7m  \u001b[0m                      \u001b[7m  \u001b[0m\u001b[7m  \u001b[0m\u001b[7m  \u001b[0m\u001b[7m  \u001b[0m        \n",
      "          \u001b[7m  \u001b[0m\u001b[7m  \u001b[0m\u001b[7m  \u001b[0m\u001b[7m  \u001b[0m    \u001b[7m  \u001b[0m\u001b[7m  \u001b[0m                  \u001b[7m  \u001b[0m\u001b[7m  \u001b[0m        \n",
      "              \u001b[7m  \u001b[0m\u001b[7m  \u001b[0m  \u001b[7m  \u001b[0m\u001b[7m  \u001b[0m                                \n",
      "                \u001b[7m  \u001b[0m\u001b[7m  \u001b[0m\u001b[7m  \u001b[0m                                  \n"
     ]
    }
   ],
   "source": [
    "img_console(bw)"
   ]
  },
  {
   "cell_type": "code",
   "execution_count": 62,
   "id": "81759426",
   "metadata": {},
   "outputs": [
    {
     "name": "stdout",
     "output_type": "stream",
     "text": [
      "1111111111111111111111111111\n",
      "1111111111111111111111111111\n",
      "1111111111111111111111111111\n",
      "11111111111\u001b[7m0\u001b[0m\u001b[7m0\u001b[0m\u001b[7m0\u001b[0m\u001b[7m0\u001b[0m\u001b[7m0\u001b[0m\u001b[7m0\u001b[0m\u001b[7m0\u001b[0m\u001b[7m0\u001b[0m111111111\n",
      "1111111111\u001b[7m0\u001b[0m\u001b[7m0\u001b[0m11\u001b[7m0\u001b[0m111\u001b[7m0\u001b[0m111111111\n",
      "1111111\u001b[7m0\u001b[0m\u001b[7m0\u001b[0m\u001b[7m0\u001b[0m\u001b[7m0\u001b[0m111\u001b[7m0\u001b[0m111\u001b[7m0\u001b[0m111111111\n",
      "111111\u001b[7m0\u001b[0m\u001b[7m0\u001b[0m11\u001b[7m0\u001b[0m\u001b[7m0\u001b[0m\u001b[7m0\u001b[0m1\u001b[7m0\u001b[0m11\u001b[7m0\u001b[0m\u001b[7m0\u001b[0m\u001b[7m0\u001b[0m\u001b[7m0\u001b[0m\u001b[7m0\u001b[0m\u001b[7m0\u001b[0m\u001b[7m0\u001b[0m1111\n",
      "111111\u001b[7m0\u001b[0m1\u001b[7m0\u001b[0m\u001b[7m0\u001b[0m\u001b[7m0\u001b[0m1\u001b[7m0\u001b[0m1\u001b[7m0\u001b[0m\u001b[7m0\u001b[0m\u001b[7m0\u001b[0m111111\u001b[7m0\u001b[0m1111\n",
      "111111\u001b[7m0\u001b[0m1\u001b[7m0\u001b[0m1\u001b[7m0\u001b[0m\u001b[7m0\u001b[0m\u001b[7m0\u001b[0m\u001b[7m0\u001b[0m\u001b[7m0\u001b[0m\u001b[7m0\u001b[0m\u001b[7m0\u001b[0m\u001b[7m0\u001b[0m\u001b[7m0\u001b[0m\u001b[7m0\u001b[0m\u001b[7m0\u001b[0m\u001b[7m0\u001b[0m1\u001b[7m0\u001b[0m1111\n",
      "111111\u001b[7m0\u001b[0m\u001b[7m0\u001b[0m11\u001b[7m0\u001b[0m\u001b[7m0\u001b[0m\u001b[7m0\u001b[0m1111\u001b[7m0\u001b[0m\u001b[7m0\u001b[0m\u001b[7m0\u001b[0m11111111\n",
      "1111111\u001b[7m0\u001b[0m\u001b[7m0\u001b[0m\u001b[7m0\u001b[0m\u001b[7m0\u001b[0m\u001b[7m0\u001b[0m11111\u001b[7m0\u001b[0m\u001b[7m0\u001b[0m\u001b[7m0\u001b[0m\u001b[7m0\u001b[0m\u001b[7m0\u001b[0m111111\n",
      "1111111\u001b[7m0\u001b[0m\u001b[7m0\u001b[0m11\u001b[7m0\u001b[0m\u001b[7m0\u001b[0m111\u001b[7m0\u001b[0m\u001b[7m0\u001b[0m\u001b[7m0\u001b[0m111111111\n",
      "111111\u001b[7m0\u001b[0m\u001b[7m0\u001b[0m11\u001b[7m0\u001b[0m\u001b[7m0\u001b[0m\u001b[7m0\u001b[0m\u001b[7m0\u001b[0m\u001b[7m0\u001b[0m\u001b[7m0\u001b[0m\u001b[7m0\u001b[0m1\u001b[7m0\u001b[0m\u001b[7m0\u001b[0m11111111\n",
      "111111\u001b[7m0\u001b[0m11\u001b[7m0\u001b[0m\u001b[7m0\u001b[0m11\u001b[7m0\u001b[0m1\u001b[7m0\u001b[0m\u001b[7m0\u001b[0m11\u001b[7m0\u001b[0m\u001b[7m0\u001b[0m1111111\n",
      "111111\u001b[7m0\u001b[0m1\u001b[7m0\u001b[0m\u001b[7m0\u001b[0m11\u001b[7m0\u001b[0m\u001b[7m0\u001b[0m11\u001b[7m0\u001b[0m\u001b[7m0\u001b[0m11\u001b[7m0\u001b[0m\u001b[7m0\u001b[0m111111\n",
      "111111\u001b[7m0\u001b[0m1111\u001b[7m0\u001b[0m\u001b[7m0\u001b[0m\u001b[7m0\u001b[0m111\u001b[7m0\u001b[0m111\u001b[7m0\u001b[0m111111\n",
      "111111\u001b[7m0\u001b[0m\u001b[7m0\u001b[0m\u001b[7m0\u001b[0m\u001b[7m0\u001b[0m\u001b[7m0\u001b[0m\u001b[7m0\u001b[0m\u001b[7m0\u001b[0m\u001b[7m0\u001b[0m\u001b[7m0\u001b[0m111111\u001b[7m0\u001b[0m111111\n",
      "11111111111\u001b[7m0\u001b[0m11\u001b[7m0\u001b[0m\u001b[7m0\u001b[0m\u001b[7m0\u001b[0m\u001b[7m0\u001b[0m\u001b[7m0\u001b[0m\u001b[7m0\u001b[0m\u001b[7m0\u001b[0m1111111\n",
      "11\u001b[7m0\u001b[0m\u001b[7m0\u001b[0m\u001b[7m0\u001b[0m\u001b[7m0\u001b[0m\u001b[7m0\u001b[0m\u001b[7m0\u001b[0m\u001b[7m0\u001b[0m\u001b[7m0\u001b[0m\u001b[7m0\u001b[0m11111111111111111\n",
      "1\u001b[7m0\u001b[0m\u001b[7m0\u001b[0m\u001b[7m0\u001b[0m\u001b[7m0\u001b[0m\u001b[7m0\u001b[0m\u001b[7m0\u001b[0m11\u001b[7m0\u001b[0m\u001b[7m0\u001b[0m1111111111111\u001b[7m0\u001b[0m111\n",
      "\u001b[7m0\u001b[0m\u001b[7m0\u001b[0m1\u001b[7m0\u001b[0m11\u001b[7m0\u001b[0m11\u001b[7m0\u001b[0m\u001b[7m0\u001b[0m\u001b[7m0\u001b[0m11111111111\u001b[7m0\u001b[0m\u001b[7m0\u001b[0m111\n",
      "11111\u001b[7m0\u001b[0m\u001b[7m0\u001b[0m11\u001b[7m0\u001b[0m1\u001b[7m0\u001b[0m\u001b[7m0\u001b[0m\u001b[7m0\u001b[0m1111\u001b[7m0\u001b[0m\u001b[7m0\u001b[0m\u001b[7m0\u001b[0m\u001b[7m0\u001b[0m\u001b[7m0\u001b[0m\u001b[7m0\u001b[0m1111\n",
      "11\u001b[7m0\u001b[0m11\u001b[7m0\u001b[0m111\u001b[7m0\u001b[0m111\u001b[7m0\u001b[0m\u001b[7m0\u001b[0m\u001b[7m0\u001b[0m\u001b[7m0\u001b[0m\u001b[7m0\u001b[0m\u001b[7m0\u001b[0m\u001b[7m0\u001b[0m\u001b[7m0\u001b[0m\u001b[7m0\u001b[0m111111\n",
      "11\u001b[7m0\u001b[0m1\u001b[7m0\u001b[0m\u001b[7m0\u001b[0m11\u001b[7m0\u001b[0m1111111111\u001b[7m0\u001b[0m1\u001b[7m0\u001b[0m\u001b[7m0\u001b[0m11111\n",
      "11\u001b[7m0\u001b[0m\u001b[7m0\u001b[0m\u001b[7m0\u001b[0m111\u001b[7m0\u001b[0m11111111111\u001b[7m0\u001b[0m\u001b[7m0\u001b[0m\u001b[7m0\u001b[0m\u001b[7m0\u001b[0m1111\n",
      "11111\u001b[7m0\u001b[0m\u001b[7m0\u001b[0m\u001b[7m0\u001b[0m\u001b[7m0\u001b[0m11\u001b[7m0\u001b[0m\u001b[7m0\u001b[0m111111111\u001b[7m0\u001b[0m\u001b[7m0\u001b[0m1111\n",
      "1111111\u001b[7m0\u001b[0m\u001b[7m0\u001b[0m1\u001b[7m0\u001b[0m\u001b[7m0\u001b[0m1111111111111111\n",
      "11111111\u001b[7m0\u001b[0m\u001b[7m0\u001b[0m\u001b[7m0\u001b[0m11111111111111111\n"
     ]
    }
   ],
   "source": [
    "img_binary(bw)"
   ]
  },
  {
   "cell_type": "code",
   "execution_count": 99,
   "id": "d3ed9683",
   "metadata": {},
   "outputs": [],
   "source": [
    "img = cv2.imread('pixabay_vegetables.jpg')\n",
    "\n",
    "img = cv2.resize(img, (50,30), interpolation = cv2.INTER_AREA)\n",
    "bw = cv2.cvtColor(img, cv2.COLOR_BGR2GRAY)\n",
    "\n",
    "thres = 170\n",
    "bw[bw <= thres] = 0\n",
    "bw[bw > thres] = 1"
   ]
  },
  {
   "cell_type": "code",
   "execution_count": 100,
   "id": "ddf88d03",
   "metadata": {},
   "outputs": [
    {
     "name": "stdout",
     "output_type": "stream",
     "text": [
      "                                                                                \u001b[7m  \u001b[0m\u001b[7m  \u001b[0m\u001b[7m  \u001b[0m              \n",
      "                                                                              \u001b[7m  \u001b[0m\u001b[7m  \u001b[0m\u001b[7m  \u001b[0m\u001b[7m  \u001b[0m\u001b[7m  \u001b[0m            \n",
      "                                                                            \u001b[7m  \u001b[0m\u001b[7m  \u001b[0m\u001b[7m  \u001b[0m\u001b[7m  \u001b[0m\u001b[7m  \u001b[0m\u001b[7m  \u001b[0m            \n",
      "                                                                            \u001b[7m  \u001b[0m\u001b[7m  \u001b[0m\u001b[7m  \u001b[0m\u001b[7m  \u001b[0m\u001b[7m  \u001b[0m              \n",
      "                                                                          \u001b[7m  \u001b[0m\u001b[7m  \u001b[0m\u001b[7m  \u001b[0m\u001b[7m  \u001b[0m                  \n",
      "                                                                          \u001b[7m  \u001b[0m\u001b[7m  \u001b[0m\u001b[7m  \u001b[0m                    \n",
      "                                                                          \u001b[7m  \u001b[0m\u001b[7m  \u001b[0m                      \n",
      "                          \u001b[7m  \u001b[0m    \u001b[7m  \u001b[0m                                        \u001b[7m  \u001b[0m\u001b[7m  \u001b[0m\u001b[7m  \u001b[0m\u001b[7m  \u001b[0m                  \n",
      "                          \u001b[7m  \u001b[0m\u001b[7m  \u001b[0m  \u001b[7m  \u001b[0m  \u001b[7m  \u001b[0m\u001b[7m  \u001b[0m                                \u001b[7m  \u001b[0m      \u001b[7m  \u001b[0m\u001b[7m  \u001b[0m        \u001b[7m  \u001b[0m      \n",
      "                          \u001b[7m  \u001b[0m\u001b[7m  \u001b[0m\u001b[7m  \u001b[0m\u001b[7m  \u001b[0m\u001b[7m  \u001b[0m\u001b[7m  \u001b[0m        \u001b[7m  \u001b[0m\u001b[7m  \u001b[0m                    \u001b[7m  \u001b[0m    \u001b[7m  \u001b[0m\u001b[7m  \u001b[0m  \u001b[7m  \u001b[0m        \u001b[7m  \u001b[0m      \n",
      "                          \u001b[7m  \u001b[0m\u001b[7m  \u001b[0m\u001b[7m  \u001b[0m\u001b[7m  \u001b[0m\u001b[7m  \u001b[0m\u001b[7m  \u001b[0m        \u001b[7m  \u001b[0m\u001b[7m  \u001b[0m\u001b[7m  \u001b[0m\u001b[7m  \u001b[0m\u001b[7m  \u001b[0m              \u001b[7m  \u001b[0m  \u001b[7m  \u001b[0m  \u001b[7m  \u001b[0m\u001b[7m  \u001b[0m\u001b[7m  \u001b[0m      \u001b[7m  \u001b[0m  \u001b[7m  \u001b[0m    \n",
      "                          \u001b[7m  \u001b[0m\u001b[7m  \u001b[0m\u001b[7m  \u001b[0m\u001b[7m  \u001b[0m\u001b[7m  \u001b[0m\u001b[7m  \u001b[0m      \u001b[7m  \u001b[0m\u001b[7m  \u001b[0m\u001b[7m  \u001b[0m\u001b[7m  \u001b[0m\u001b[7m  \u001b[0m\u001b[7m  \u001b[0m              \u001b[7m  \u001b[0m\u001b[7m  \u001b[0m\u001b[7m  \u001b[0m  \u001b[7m  \u001b[0m\u001b[7m  \u001b[0m\u001b[7m  \u001b[0m\u001b[7m  \u001b[0m  \u001b[7m  \u001b[0m          \n",
      "                        \u001b[7m  \u001b[0m\u001b[7m  \u001b[0m\u001b[7m  \u001b[0m\u001b[7m  \u001b[0m\u001b[7m  \u001b[0m\u001b[7m  \u001b[0m      \u001b[7m  \u001b[0m\u001b[7m  \u001b[0m\u001b[7m  \u001b[0m\u001b[7m  \u001b[0m\u001b[7m  \u001b[0m\u001b[7m  \u001b[0m\u001b[7m  \u001b[0m                \u001b[7m  \u001b[0m\u001b[7m  \u001b[0m\u001b[7m  \u001b[0m\u001b[7m  \u001b[0m\u001b[7m  \u001b[0m\u001b[7m  \u001b[0m\u001b[7m  \u001b[0m      \u001b[7m  \u001b[0m      \n",
      "      \u001b[7m  \u001b[0m\u001b[7m  \u001b[0m              \u001b[7m  \u001b[0m\u001b[7m  \u001b[0m\u001b[7m  \u001b[0m\u001b[7m  \u001b[0m\u001b[7m  \u001b[0m        \u001b[7m  \u001b[0m\u001b[7m  \u001b[0m\u001b[7m  \u001b[0m\u001b[7m  \u001b[0m\u001b[7m  \u001b[0m\u001b[7m  \u001b[0m\u001b[7m  \u001b[0m\u001b[7m  \u001b[0m              \u001b[7m  \u001b[0m\u001b[7m  \u001b[0m\u001b[7m  \u001b[0m\u001b[7m  \u001b[0m    \u001b[7m  \u001b[0m    \u001b[7m  \u001b[0m        \n",
      "    \u001b[7m  \u001b[0m\u001b[7m  \u001b[0m\u001b[7m  \u001b[0m\u001b[7m  \u001b[0m\u001b[7m  \u001b[0m          \u001b[7m  \u001b[0m\u001b[7m  \u001b[0m\u001b[7m  \u001b[0m\u001b[7m  \u001b[0m        \u001b[7m  \u001b[0m\u001b[7m  \u001b[0m\u001b[7m  \u001b[0m\u001b[7m  \u001b[0m\u001b[7m  \u001b[0m\u001b[7m  \u001b[0m\u001b[7m  \u001b[0m\u001b[7m  \u001b[0m\u001b[7m  \u001b[0m\u001b[7m  \u001b[0m            \u001b[7m  \u001b[0m  \u001b[7m  \u001b[0m\u001b[7m  \u001b[0m\u001b[7m  \u001b[0m\u001b[7m  \u001b[0m\u001b[7m  \u001b[0m  \u001b[7m  \u001b[0m\u001b[7m  \u001b[0m        \n",
      "    \u001b[7m  \u001b[0m\u001b[7m  \u001b[0m  \u001b[7m  \u001b[0m\u001b[7m  \u001b[0m          \u001b[7m  \u001b[0m\u001b[7m  \u001b[0m\u001b[7m  \u001b[0m          \u001b[7m  \u001b[0m\u001b[7m  \u001b[0m\u001b[7m  \u001b[0m\u001b[7m  \u001b[0m\u001b[7m  \u001b[0m\u001b[7m  \u001b[0m\u001b[7m  \u001b[0m\u001b[7m  \u001b[0m\u001b[7m  \u001b[0m\u001b[7m  \u001b[0m            \u001b[7m  \u001b[0m\u001b[7m  \u001b[0m  \u001b[7m  \u001b[0m\u001b[7m  \u001b[0m  \u001b[7m  \u001b[0m\u001b[7m  \u001b[0m\u001b[7m  \u001b[0m          \n",
      "        \u001b[7m  \u001b[0m  \u001b[7m  \u001b[0m        \u001b[7m  \u001b[0m    \u001b[7m  \u001b[0m          \u001b[7m  \u001b[0m\u001b[7m  \u001b[0m\u001b[7m  \u001b[0m\u001b[7m  \u001b[0m\u001b[7m  \u001b[0m\u001b[7m  \u001b[0m\u001b[7m  \u001b[0m\u001b[7m  \u001b[0m\u001b[7m  \u001b[0m\u001b[7m  \u001b[0m              \u001b[7m  \u001b[0m\u001b[7m  \u001b[0m\u001b[7m  \u001b[0m\u001b[7m  \u001b[0m\u001b[7m  \u001b[0m\u001b[7m  \u001b[0m              \n",
      "      \u001b[7m  \u001b[0m              \u001b[7m  \u001b[0m    \u001b[7m  \u001b[0m            \u001b[7m  \u001b[0m\u001b[7m  \u001b[0m\u001b[7m  \u001b[0m\u001b[7m  \u001b[0m\u001b[7m  \u001b[0m\u001b[7m  \u001b[0m\u001b[7m  \u001b[0m\u001b[7m  \u001b[0m\u001b[7m  \u001b[0m            \u001b[7m  \u001b[0m\u001b[7m  \u001b[0m\u001b[7m  \u001b[0m\u001b[7m  \u001b[0m\u001b[7m  \u001b[0m  \u001b[7m  \u001b[0m              \n",
      "        \u001b[7m  \u001b[0m\u001b[7m  \u001b[0m      \u001b[7m  \u001b[0m\u001b[7m  \u001b[0m    \u001b[7m  \u001b[0m            \u001b[7m  \u001b[0m\u001b[7m  \u001b[0m\u001b[7m  \u001b[0m\u001b[7m  \u001b[0m\u001b[7m  \u001b[0m\u001b[7m  \u001b[0m\u001b[7m  \u001b[0m\u001b[7m  \u001b[0m\u001b[7m  \u001b[0m\u001b[7m  \u001b[0m\u001b[7m  \u001b[0m          \u001b[7m  \u001b[0m\u001b[7m  \u001b[0m\u001b[7m  \u001b[0m      \u001b[7m  \u001b[0m              \n",
      "        \u001b[7m  \u001b[0m\u001b[7m  \u001b[0m    \u001b[7m  \u001b[0m\u001b[7m  \u001b[0m\u001b[7m  \u001b[0m\u001b[7m  \u001b[0m\u001b[7m  \u001b[0m\u001b[7m  \u001b[0m          \u001b[7m  \u001b[0m\u001b[7m  \u001b[0m\u001b[7m  \u001b[0m\u001b[7m  \u001b[0m\u001b[7m  \u001b[0m\u001b[7m  \u001b[0m\u001b[7m  \u001b[0m\u001b[7m  \u001b[0m\u001b[7m  \u001b[0m\u001b[7m  \u001b[0m\u001b[7m  \u001b[0m\u001b[7m  \u001b[0m\u001b[7m  \u001b[0m        \u001b[7m  \u001b[0m\u001b[7m  \u001b[0m\u001b[7m  \u001b[0m  \u001b[7m  \u001b[0m\u001b[7m  \u001b[0m\u001b[7m  \u001b[0m              \n",
      "        \u001b[7m  \u001b[0m\u001b[7m  \u001b[0m\u001b[7m  \u001b[0m\u001b[7m  \u001b[0m\u001b[7m  \u001b[0m\u001b[7m  \u001b[0m  \u001b[7m  \u001b[0m\u001b[7m  \u001b[0m  \u001b[7m  \u001b[0m\u001b[7m  \u001b[0m      \u001b[7m  \u001b[0m  \u001b[7m  \u001b[0m\u001b[7m  \u001b[0m\u001b[7m  \u001b[0m\u001b[7m  \u001b[0m\u001b[7m  \u001b[0m\u001b[7m  \u001b[0m\u001b[7m  \u001b[0m\u001b[7m  \u001b[0m\u001b[7m  \u001b[0m  \u001b[7m  \u001b[0m\u001b[7m  \u001b[0m      \u001b[7m  \u001b[0m\u001b[7m  \u001b[0m\u001b[7m  \u001b[0m      \u001b[7m  \u001b[0m              \n",
      "          \u001b[7m  \u001b[0m\u001b[7m  \u001b[0m  \u001b[7m  \u001b[0m\u001b[7m  \u001b[0m        \u001b[7m  \u001b[0m\u001b[7m  \u001b[0m\u001b[7m  \u001b[0m      \u001b[7m  \u001b[0m\u001b[7m  \u001b[0m\u001b[7m  \u001b[0m\u001b[7m  \u001b[0m\u001b[7m  \u001b[0m\u001b[7m  \u001b[0m\u001b[7m  \u001b[0m\u001b[7m  \u001b[0m\u001b[7m  \u001b[0m\u001b[7m  \u001b[0m  \u001b[7m  \u001b[0m\u001b[7m  \u001b[0m    \u001b[7m  \u001b[0m\u001b[7m  \u001b[0m  \u001b[7m  \u001b[0m\u001b[7m  \u001b[0m    \u001b[7m  \u001b[0m              \n",
      "          \u001b[7m  \u001b[0m    \u001b[7m  \u001b[0m\u001b[7m  \u001b[0m\u001b[7m  \u001b[0m        \u001b[7m  \u001b[0m\u001b[7m  \u001b[0m      \u001b[7m  \u001b[0m\u001b[7m  \u001b[0m\u001b[7m  \u001b[0m\u001b[7m  \u001b[0m\u001b[7m  \u001b[0m\u001b[7m  \u001b[0m\u001b[7m  \u001b[0m\u001b[7m  \u001b[0m\u001b[7m  \u001b[0m\u001b[7m  \u001b[0m\u001b[7m  \u001b[0m\u001b[7m  \u001b[0m\u001b[7m  \u001b[0m      \u001b[7m  \u001b[0m\u001b[7m  \u001b[0m\u001b[7m  \u001b[0m\u001b[7m  \u001b[0m  \u001b[7m  \u001b[0m\u001b[7m  \u001b[0m        \u001b[7m  \u001b[0m\u001b[7m  \u001b[0m  \n",
      "          \u001b[7m  \u001b[0m    \u001b[7m  \u001b[0m\u001b[7m  \u001b[0m\u001b[7m  \u001b[0m\u001b[7m  \u001b[0m          \u001b[7m  \u001b[0m    \u001b[7m  \u001b[0m\u001b[7m  \u001b[0m\u001b[7m  \u001b[0m\u001b[7m  \u001b[0m\u001b[7m  \u001b[0m\u001b[7m  \u001b[0m\u001b[7m  \u001b[0m\u001b[7m  \u001b[0m\u001b[7m  \u001b[0m  \u001b[7m  \u001b[0m\u001b[7m  \u001b[0m\u001b[7m  \u001b[0m          \u001b[7m  \u001b[0m\u001b[7m  \u001b[0m\u001b[7m  \u001b[0m  \u001b[7m  \u001b[0m\u001b[7m  \u001b[0m    \u001b[7m  \u001b[0m\u001b[7m  \u001b[0m\u001b[7m  \u001b[0m  \n",
      "          \u001b[7m  \u001b[0m    \u001b[7m  \u001b[0m          \u001b[7m  \u001b[0m    \u001b[7m  \u001b[0m      \u001b[7m  \u001b[0m\u001b[7m  \u001b[0m\u001b[7m  \u001b[0m\u001b[7m  \u001b[0m\u001b[7m  \u001b[0m\u001b[7m  \u001b[0m\u001b[7m  \u001b[0m\u001b[7m  \u001b[0m    \u001b[7m  \u001b[0m\u001b[7m  \u001b[0m        \u001b[7m  \u001b[0m\u001b[7m  \u001b[0m  \u001b[7m  \u001b[0m  \u001b[7m  \u001b[0m\u001b[7m  \u001b[0m  \u001b[7m  \u001b[0m\u001b[7m  \u001b[0m\u001b[7m  \u001b[0m\u001b[7m  \u001b[0m  \n",
      "          \u001b[7m  \u001b[0m\u001b[7m  \u001b[0m                \u001b[7m  \u001b[0m\u001b[7m  \u001b[0m        \u001b[7m  \u001b[0m  \u001b[7m  \u001b[0m\u001b[7m  \u001b[0m\u001b[7m  \u001b[0m\u001b[7m  \u001b[0m\u001b[7m  \u001b[0m  \u001b[7m  \u001b[0m            \u001b[7m  \u001b[0m\u001b[7m  \u001b[0m      \u001b[7m  \u001b[0m\u001b[7m  \u001b[0m\u001b[7m  \u001b[0m\u001b[7m  \u001b[0m\u001b[7m  \u001b[0m\u001b[7m  \u001b[0m\u001b[7m  \u001b[0m\u001b[7m  \u001b[0m\u001b[7m  \u001b[0m\n",
      "    \u001b[7m  \u001b[0m\u001b[7m  \u001b[0m  \u001b[7m  \u001b[0m\u001b[7m  \u001b[0m\u001b[7m  \u001b[0m\u001b[7m  \u001b[0m        \u001b[7m  \u001b[0m\u001b[7m  \u001b[0m      \u001b[7m  \u001b[0m\u001b[7m  \u001b[0m\u001b[7m  \u001b[0m\u001b[7m  \u001b[0m      \u001b[7m  \u001b[0m  \u001b[7m  \u001b[0m\u001b[7m  \u001b[0m\u001b[7m  \u001b[0m\u001b[7m  \u001b[0m    \u001b[7m  \u001b[0m\u001b[7m  \u001b[0m\u001b[7m  \u001b[0m\u001b[7m  \u001b[0m              \u001b[7m  \u001b[0m    \u001b[7m  \u001b[0m\u001b[7m  \u001b[0m\u001b[7m  \u001b[0m\n",
      "  \u001b[7m  \u001b[0m\u001b[7m  \u001b[0m\u001b[7m  \u001b[0m\u001b[7m  \u001b[0m\u001b[7m  \u001b[0m      \u001b[7m  \u001b[0m\u001b[7m  \u001b[0m\u001b[7m  \u001b[0m\u001b[7m  \u001b[0m\u001b[7m  \u001b[0m\u001b[7m  \u001b[0m\u001b[7m  \u001b[0m\u001b[7m  \u001b[0m  \u001b[7m  \u001b[0m\u001b[7m  \u001b[0m\u001b[7m  \u001b[0m\u001b[7m  \u001b[0m\u001b[7m  \u001b[0m      \u001b[7m  \u001b[0m\u001b[7m  \u001b[0m\u001b[7m  \u001b[0m\u001b[7m  \u001b[0m\u001b[7m  \u001b[0m    \u001b[7m  \u001b[0m\u001b[7m  \u001b[0m\u001b[7m  \u001b[0m\u001b[7m  \u001b[0m\u001b[7m  \u001b[0m                  \u001b[7m  \u001b[0m\u001b[7m  \u001b[0m  \n",
      "  \u001b[7m  \u001b[0m\u001b[7m  \u001b[0m\u001b[7m  \u001b[0m\u001b[7m  \u001b[0m\u001b[7m  \u001b[0m            \u001b[7m  \u001b[0m\u001b[7m  \u001b[0m\u001b[7m  \u001b[0m\u001b[7m  \u001b[0m\u001b[7m  \u001b[0m    \u001b[7m  \u001b[0m\u001b[7m  \u001b[0m\u001b[7m  \u001b[0m              \u001b[7m  \u001b[0m      \u001b[7m  \u001b[0m\u001b[7m  \u001b[0m\u001b[7m  \u001b[0m\u001b[7m  \u001b[0m\u001b[7m  \u001b[0m                        \n",
      "\u001b[7m  \u001b[0m\u001b[7m  \u001b[0m\u001b[7m  \u001b[0m\u001b[7m  \u001b[0m\u001b[7m  \u001b[0m\u001b[7m  \u001b[0m\u001b[7m  \u001b[0m\u001b[7m  \u001b[0m\u001b[7m  \u001b[0m\u001b[7m  \u001b[0m\u001b[7m  \u001b[0m\u001b[7m  \u001b[0m\u001b[7m  \u001b[0m\u001b[7m  \u001b[0m\u001b[7m  \u001b[0m\u001b[7m  \u001b[0m\u001b[7m  \u001b[0m\u001b[7m  \u001b[0m\u001b[7m  \u001b[0m\u001b[7m  \u001b[0m\u001b[7m  \u001b[0m\u001b[7m  \u001b[0m\u001b[7m  \u001b[0m\u001b[7m  \u001b[0m\u001b[7m  \u001b[0m\u001b[7m  \u001b[0m\u001b[7m  \u001b[0m\u001b[7m  \u001b[0m\u001b[7m  \u001b[0m\u001b[7m  \u001b[0m\u001b[7m  \u001b[0m\u001b[7m  \u001b[0m\u001b[7m  \u001b[0m\u001b[7m  \u001b[0m\u001b[7m  \u001b[0m\u001b[7m  \u001b[0m\u001b[7m  \u001b[0m\u001b[7m  \u001b[0m\u001b[7m  \u001b[0m\u001b[7m  \u001b[0m\u001b[7m  \u001b[0m\u001b[7m  \u001b[0m\u001b[7m  \u001b[0m\u001b[7m  \u001b[0m\u001b[7m  \u001b[0m\u001b[7m  \u001b[0m\u001b[7m  \u001b[0m\u001b[7m  \u001b[0m\u001b[7m  \u001b[0m\u001b[7m  \u001b[0m\n"
     ]
    }
   ],
   "source": [
    "img_console(bw)"
   ]
  },
  {
   "cell_type": "code",
   "execution_count": 101,
   "id": "f7a95b31",
   "metadata": {},
   "outputs": [
    {
     "name": "stdout",
     "output_type": "stream",
     "text": [
      "1111111111111111111111111111111111111111\u001b[7m0\u001b[0m\u001b[7m0\u001b[0m\u001b[7m0\u001b[0m1111111\n",
      "111111111111111111111111111111111111111\u001b[7m0\u001b[0m\u001b[7m0\u001b[0m\u001b[7m0\u001b[0m\u001b[7m0\u001b[0m\u001b[7m0\u001b[0m111111\n",
      "11111111111111111111111111111111111111\u001b[7m0\u001b[0m\u001b[7m0\u001b[0m\u001b[7m0\u001b[0m\u001b[7m0\u001b[0m\u001b[7m0\u001b[0m\u001b[7m0\u001b[0m111111\n",
      "11111111111111111111111111111111111111\u001b[7m0\u001b[0m\u001b[7m0\u001b[0m\u001b[7m0\u001b[0m\u001b[7m0\u001b[0m\u001b[7m0\u001b[0m1111111\n",
      "1111111111111111111111111111111111111\u001b[7m0\u001b[0m\u001b[7m0\u001b[0m\u001b[7m0\u001b[0m\u001b[7m0\u001b[0m111111111\n",
      "1111111111111111111111111111111111111\u001b[7m0\u001b[0m\u001b[7m0\u001b[0m\u001b[7m0\u001b[0m1111111111\n",
      "1111111111111111111111111111111111111\u001b[7m0\u001b[0m\u001b[7m0\u001b[0m11111111111\n",
      "1111111111111\u001b[7m0\u001b[0m11\u001b[7m0\u001b[0m11111111111111111111\u001b[7m0\u001b[0m\u001b[7m0\u001b[0m\u001b[7m0\u001b[0m\u001b[7m0\u001b[0m111111111\n",
      "1111111111111\u001b[7m0\u001b[0m\u001b[7m0\u001b[0m1\u001b[7m0\u001b[0m1\u001b[7m0\u001b[0m\u001b[7m0\u001b[0m1111111111111111\u001b[7m0\u001b[0m111\u001b[7m0\u001b[0m\u001b[7m0\u001b[0m1111\u001b[7m0\u001b[0m111\n",
      "1111111111111\u001b[7m0\u001b[0m\u001b[7m0\u001b[0m\u001b[7m0\u001b[0m\u001b[7m0\u001b[0m\u001b[7m0\u001b[0m\u001b[7m0\u001b[0m1111\u001b[7m0\u001b[0m\u001b[7m0\u001b[0m1111111111\u001b[7m0\u001b[0m11\u001b[7m0\u001b[0m\u001b[7m0\u001b[0m1\u001b[7m0\u001b[0m1111\u001b[7m0\u001b[0m111\n",
      "1111111111111\u001b[7m0\u001b[0m\u001b[7m0\u001b[0m\u001b[7m0\u001b[0m\u001b[7m0\u001b[0m\u001b[7m0\u001b[0m\u001b[7m0\u001b[0m1111\u001b[7m0\u001b[0m\u001b[7m0\u001b[0m\u001b[7m0\u001b[0m\u001b[7m0\u001b[0m\u001b[7m0\u001b[0m1111111\u001b[7m0\u001b[0m1\u001b[7m0\u001b[0m1\u001b[7m0\u001b[0m\u001b[7m0\u001b[0m\u001b[7m0\u001b[0m111\u001b[7m0\u001b[0m1\u001b[7m0\u001b[0m11\n",
      "1111111111111\u001b[7m0\u001b[0m\u001b[7m0\u001b[0m\u001b[7m0\u001b[0m\u001b[7m0\u001b[0m\u001b[7m0\u001b[0m\u001b[7m0\u001b[0m111\u001b[7m0\u001b[0m\u001b[7m0\u001b[0m\u001b[7m0\u001b[0m\u001b[7m0\u001b[0m\u001b[7m0\u001b[0m\u001b[7m0\u001b[0m1111111\u001b[7m0\u001b[0m\u001b[7m0\u001b[0m\u001b[7m0\u001b[0m1\u001b[7m0\u001b[0m\u001b[7m0\u001b[0m\u001b[7m0\u001b[0m\u001b[7m0\u001b[0m1\u001b[7m0\u001b[0m11111\n",
      "111111111111\u001b[7m0\u001b[0m\u001b[7m0\u001b[0m\u001b[7m0\u001b[0m\u001b[7m0\u001b[0m\u001b[7m0\u001b[0m\u001b[7m0\u001b[0m111\u001b[7m0\u001b[0m\u001b[7m0\u001b[0m\u001b[7m0\u001b[0m\u001b[7m0\u001b[0m\u001b[7m0\u001b[0m\u001b[7m0\u001b[0m\u001b[7m0\u001b[0m11111111\u001b[7m0\u001b[0m\u001b[7m0\u001b[0m\u001b[7m0\u001b[0m\u001b[7m0\u001b[0m\u001b[7m0\u001b[0m\u001b[7m0\u001b[0m\u001b[7m0\u001b[0m111\u001b[7m0\u001b[0m111\n",
      "111\u001b[7m0\u001b[0m\u001b[7m0\u001b[0m1111111\u001b[7m0\u001b[0m\u001b[7m0\u001b[0m\u001b[7m0\u001b[0m\u001b[7m0\u001b[0m\u001b[7m0\u001b[0m1111\u001b[7m0\u001b[0m\u001b[7m0\u001b[0m\u001b[7m0\u001b[0m\u001b[7m0\u001b[0m\u001b[7m0\u001b[0m\u001b[7m0\u001b[0m\u001b[7m0\u001b[0m\u001b[7m0\u001b[0m1111111\u001b[7m0\u001b[0m\u001b[7m0\u001b[0m\u001b[7m0\u001b[0m\u001b[7m0\u001b[0m11\u001b[7m0\u001b[0m11\u001b[7m0\u001b[0m1111\n",
      "11\u001b[7m0\u001b[0m\u001b[7m0\u001b[0m\u001b[7m0\u001b[0m\u001b[7m0\u001b[0m\u001b[7m0\u001b[0m11111\u001b[7m0\u001b[0m\u001b[7m0\u001b[0m\u001b[7m0\u001b[0m\u001b[7m0\u001b[0m1111\u001b[7m0\u001b[0m\u001b[7m0\u001b[0m\u001b[7m0\u001b[0m\u001b[7m0\u001b[0m\u001b[7m0\u001b[0m\u001b[7m0\u001b[0m\u001b[7m0\u001b[0m\u001b[7m0\u001b[0m\u001b[7m0\u001b[0m\u001b[7m0\u001b[0m111111\u001b[7m0\u001b[0m1\u001b[7m0\u001b[0m\u001b[7m0\u001b[0m\u001b[7m0\u001b[0m\u001b[7m0\u001b[0m\u001b[7m0\u001b[0m1\u001b[7m0\u001b[0m\u001b[7m0\u001b[0m1111\n",
      "11\u001b[7m0\u001b[0m\u001b[7m0\u001b[0m1\u001b[7m0\u001b[0m\u001b[7m0\u001b[0m11111\u001b[7m0\u001b[0m\u001b[7m0\u001b[0m\u001b[7m0\u001b[0m11111\u001b[7m0\u001b[0m\u001b[7m0\u001b[0m\u001b[7m0\u001b[0m\u001b[7m0\u001b[0m\u001b[7m0\u001b[0m\u001b[7m0\u001b[0m\u001b[7m0\u001b[0m\u001b[7m0\u001b[0m\u001b[7m0\u001b[0m\u001b[7m0\u001b[0m111111\u001b[7m0\u001b[0m\u001b[7m0\u001b[0m1\u001b[7m0\u001b[0m\u001b[7m0\u001b[0m1\u001b[7m0\u001b[0m\u001b[7m0\u001b[0m\u001b[7m0\u001b[0m11111\n",
      "1111\u001b[7m0\u001b[0m1\u001b[7m0\u001b[0m1111\u001b[7m0\u001b[0m11\u001b[7m0\u001b[0m11111\u001b[7m0\u001b[0m\u001b[7m0\u001b[0m\u001b[7m0\u001b[0m\u001b[7m0\u001b[0m\u001b[7m0\u001b[0m\u001b[7m0\u001b[0m\u001b[7m0\u001b[0m\u001b[7m0\u001b[0m\u001b[7m0\u001b[0m\u001b[7m0\u001b[0m1111111\u001b[7m0\u001b[0m\u001b[7m0\u001b[0m\u001b[7m0\u001b[0m\u001b[7m0\u001b[0m\u001b[7m0\u001b[0m\u001b[7m0\u001b[0m1111111\n",
      "111\u001b[7m0\u001b[0m1111111\u001b[7m0\u001b[0m11\u001b[7m0\u001b[0m111111\u001b[7m0\u001b[0m\u001b[7m0\u001b[0m\u001b[7m0\u001b[0m\u001b[7m0\u001b[0m\u001b[7m0\u001b[0m\u001b[7m0\u001b[0m\u001b[7m0\u001b[0m\u001b[7m0\u001b[0m\u001b[7m0\u001b[0m111111\u001b[7m0\u001b[0m\u001b[7m0\u001b[0m\u001b[7m0\u001b[0m\u001b[7m0\u001b[0m\u001b[7m0\u001b[0m1\u001b[7m0\u001b[0m1111111\n",
      "1111\u001b[7m0\u001b[0m\u001b[7m0\u001b[0m111\u001b[7m0\u001b[0m\u001b[7m0\u001b[0m11\u001b[7m0\u001b[0m111111\u001b[7m0\u001b[0m\u001b[7m0\u001b[0m\u001b[7m0\u001b[0m\u001b[7m0\u001b[0m\u001b[7m0\u001b[0m\u001b[7m0\u001b[0m\u001b[7m0\u001b[0m\u001b[7m0\u001b[0m\u001b[7m0\u001b[0m\u001b[7m0\u001b[0m\u001b[7m0\u001b[0m11111\u001b[7m0\u001b[0m\u001b[7m0\u001b[0m\u001b[7m0\u001b[0m111\u001b[7m0\u001b[0m1111111\n",
      "1111\u001b[7m0\u001b[0m\u001b[7m0\u001b[0m11\u001b[7m0\u001b[0m\u001b[7m0\u001b[0m\u001b[7m0\u001b[0m\u001b[7m0\u001b[0m\u001b[7m0\u001b[0m\u001b[7m0\u001b[0m11111\u001b[7m0\u001b[0m\u001b[7m0\u001b[0m\u001b[7m0\u001b[0m\u001b[7m0\u001b[0m\u001b[7m0\u001b[0m\u001b[7m0\u001b[0m\u001b[7m0\u001b[0m\u001b[7m0\u001b[0m\u001b[7m0\u001b[0m\u001b[7m0\u001b[0m\u001b[7m0\u001b[0m\u001b[7m0\u001b[0m\u001b[7m0\u001b[0m1111\u001b[7m0\u001b[0m\u001b[7m0\u001b[0m\u001b[7m0\u001b[0m1\u001b[7m0\u001b[0m\u001b[7m0\u001b[0m\u001b[7m0\u001b[0m1111111\n",
      "1111\u001b[7m0\u001b[0m\u001b[7m0\u001b[0m\u001b[7m0\u001b[0m\u001b[7m0\u001b[0m\u001b[7m0\u001b[0m\u001b[7m0\u001b[0m1\u001b[7m0\u001b[0m\u001b[7m0\u001b[0m1\u001b[7m0\u001b[0m\u001b[7m0\u001b[0m111\u001b[7m0\u001b[0m1\u001b[7m0\u001b[0m\u001b[7m0\u001b[0m\u001b[7m0\u001b[0m\u001b[7m0\u001b[0m\u001b[7m0\u001b[0m\u001b[7m0\u001b[0m\u001b[7m0\u001b[0m\u001b[7m0\u001b[0m\u001b[7m0\u001b[0m1\u001b[7m0\u001b[0m\u001b[7m0\u001b[0m111\u001b[7m0\u001b[0m\u001b[7m0\u001b[0m\u001b[7m0\u001b[0m111\u001b[7m0\u001b[0m1111111\n",
      "11111\u001b[7m0\u001b[0m\u001b[7m0\u001b[0m1\u001b[7m0\u001b[0m\u001b[7m0\u001b[0m1111\u001b[7m0\u001b[0m\u001b[7m0\u001b[0m\u001b[7m0\u001b[0m111\u001b[7m0\u001b[0m\u001b[7m0\u001b[0m\u001b[7m0\u001b[0m\u001b[7m0\u001b[0m\u001b[7m0\u001b[0m\u001b[7m0\u001b[0m\u001b[7m0\u001b[0m\u001b[7m0\u001b[0m\u001b[7m0\u001b[0m\u001b[7m0\u001b[0m1\u001b[7m0\u001b[0m\u001b[7m0\u001b[0m11\u001b[7m0\u001b[0m\u001b[7m0\u001b[0m1\u001b[7m0\u001b[0m\u001b[7m0\u001b[0m11\u001b[7m0\u001b[0m1111111\n",
      "11111\u001b[7m0\u001b[0m11\u001b[7m0\u001b[0m\u001b[7m0\u001b[0m\u001b[7m0\u001b[0m1111\u001b[7m0\u001b[0m\u001b[7m0\u001b[0m111\u001b[7m0\u001b[0m\u001b[7m0\u001b[0m\u001b[7m0\u001b[0m\u001b[7m0\u001b[0m\u001b[7m0\u001b[0m\u001b[7m0\u001b[0m\u001b[7m0\u001b[0m\u001b[7m0\u001b[0m\u001b[7m0\u001b[0m\u001b[7m0\u001b[0m\u001b[7m0\u001b[0m\u001b[7m0\u001b[0m\u001b[7m0\u001b[0m111\u001b[7m0\u001b[0m\u001b[7m0\u001b[0m\u001b[7m0\u001b[0m\u001b[7m0\u001b[0m1\u001b[7m0\u001b[0m\u001b[7m0\u001b[0m1111\u001b[7m0\u001b[0m\u001b[7m0\u001b[0m1\n",
      "11111\u001b[7m0\u001b[0m11\u001b[7m0\u001b[0m\u001b[7m0\u001b[0m\u001b[7m0\u001b[0m\u001b[7m0\u001b[0m11111\u001b[7m0\u001b[0m11\u001b[7m0\u001b[0m\u001b[7m0\u001b[0m\u001b[7m0\u001b[0m\u001b[7m0\u001b[0m\u001b[7m0\u001b[0m\u001b[7m0\u001b[0m\u001b[7m0\u001b[0m\u001b[7m0\u001b[0m\u001b[7m0\u001b[0m1\u001b[7m0\u001b[0m\u001b[7m0\u001b[0m\u001b[7m0\u001b[0m11111\u001b[7m0\u001b[0m\u001b[7m0\u001b[0m\u001b[7m0\u001b[0m1\u001b[7m0\u001b[0m\u001b[7m0\u001b[0m11\u001b[7m0\u001b[0m\u001b[7m0\u001b[0m\u001b[7m0\u001b[0m1\n",
      "11111\u001b[7m0\u001b[0m11\u001b[7m0\u001b[0m11111\u001b[7m0\u001b[0m11\u001b[7m0\u001b[0m111\u001b[7m0\u001b[0m\u001b[7m0\u001b[0m\u001b[7m0\u001b[0m\u001b[7m0\u001b[0m\u001b[7m0\u001b[0m\u001b[7m0\u001b[0m\u001b[7m0\u001b[0m\u001b[7m0\u001b[0m11\u001b[7m0\u001b[0m\u001b[7m0\u001b[0m1111\u001b[7m0\u001b[0m\u001b[7m0\u001b[0m1\u001b[7m0\u001b[0m1\u001b[7m0\u001b[0m\u001b[7m0\u001b[0m1\u001b[7m0\u001b[0m\u001b[7m0\u001b[0m\u001b[7m0\u001b[0m\u001b[7m0\u001b[0m1\n",
      "11111\u001b[7m0\u001b[0m\u001b[7m0\u001b[0m11111111\u001b[7m0\u001b[0m\u001b[7m0\u001b[0m1111\u001b[7m0\u001b[0m1\u001b[7m0\u001b[0m\u001b[7m0\u001b[0m\u001b[7m0\u001b[0m\u001b[7m0\u001b[0m\u001b[7m0\u001b[0m1\u001b[7m0\u001b[0m111111\u001b[7m0\u001b[0m\u001b[7m0\u001b[0m111\u001b[7m0\u001b[0m\u001b[7m0\u001b[0m\u001b[7m0\u001b[0m\u001b[7m0\u001b[0m\u001b[7m0\u001b[0m\u001b[7m0\u001b[0m\u001b[7m0\u001b[0m\u001b[7m0\u001b[0m\u001b[7m0\u001b[0m\n",
      "11\u001b[7m0\u001b[0m\u001b[7m0\u001b[0m1\u001b[7m0\u001b[0m\u001b[7m0\u001b[0m\u001b[7m0\u001b[0m\u001b[7m0\u001b[0m1111\u001b[7m0\u001b[0m\u001b[7m0\u001b[0m111\u001b[7m0\u001b[0m\u001b[7m0\u001b[0m\u001b[7m0\u001b[0m\u001b[7m0\u001b[0m111\u001b[7m0\u001b[0m1\u001b[7m0\u001b[0m\u001b[7m0\u001b[0m\u001b[7m0\u001b[0m\u001b[7m0\u001b[0m11\u001b[7m0\u001b[0m\u001b[7m0\u001b[0m\u001b[7m0\u001b[0m\u001b[7m0\u001b[0m1111111\u001b[7m0\u001b[0m11\u001b[7m0\u001b[0m\u001b[7m0\u001b[0m\u001b[7m0\u001b[0m\n",
      "1\u001b[7m0\u001b[0m\u001b[7m0\u001b[0m\u001b[7m0\u001b[0m\u001b[7m0\u001b[0m\u001b[7m0\u001b[0m111\u001b[7m0\u001b[0m\u001b[7m0\u001b[0m\u001b[7m0\u001b[0m\u001b[7m0\u001b[0m\u001b[7m0\u001b[0m\u001b[7m0\u001b[0m\u001b[7m0\u001b[0m\u001b[7m0\u001b[0m1\u001b[7m0\u001b[0m\u001b[7m0\u001b[0m\u001b[7m0\u001b[0m\u001b[7m0\u001b[0m\u001b[7m0\u001b[0m111\u001b[7m0\u001b[0m\u001b[7m0\u001b[0m\u001b[7m0\u001b[0m\u001b[7m0\u001b[0m\u001b[7m0\u001b[0m11\u001b[7m0\u001b[0m\u001b[7m0\u001b[0m\u001b[7m0\u001b[0m\u001b[7m0\u001b[0m\u001b[7m0\u001b[0m111111111\u001b[7m0\u001b[0m\u001b[7m0\u001b[0m1\n",
      "1\u001b[7m0\u001b[0m\u001b[7m0\u001b[0m\u001b[7m0\u001b[0m\u001b[7m0\u001b[0m\u001b[7m0\u001b[0m111111\u001b[7m0\u001b[0m\u001b[7m0\u001b[0m\u001b[7m0\u001b[0m\u001b[7m0\u001b[0m\u001b[7m0\u001b[0m11\u001b[7m0\u001b[0m\u001b[7m0\u001b[0m\u001b[7m0\u001b[0m1111111\u001b[7m0\u001b[0m111\u001b[7m0\u001b[0m\u001b[7m0\u001b[0m\u001b[7m0\u001b[0m\u001b[7m0\u001b[0m\u001b[7m0\u001b[0m111111111111\n",
      "\u001b[7m0\u001b[0m\u001b[7m0\u001b[0m\u001b[7m0\u001b[0m\u001b[7m0\u001b[0m\u001b[7m0\u001b[0m\u001b[7m0\u001b[0m\u001b[7m0\u001b[0m\u001b[7m0\u001b[0m\u001b[7m0\u001b[0m\u001b[7m0\u001b[0m\u001b[7m0\u001b[0m\u001b[7m0\u001b[0m\u001b[7m0\u001b[0m\u001b[7m0\u001b[0m\u001b[7m0\u001b[0m\u001b[7m0\u001b[0m\u001b[7m0\u001b[0m\u001b[7m0\u001b[0m\u001b[7m0\u001b[0m\u001b[7m0\u001b[0m\u001b[7m0\u001b[0m\u001b[7m0\u001b[0m\u001b[7m0\u001b[0m\u001b[7m0\u001b[0m\u001b[7m0\u001b[0m\u001b[7m0\u001b[0m\u001b[7m0\u001b[0m\u001b[7m0\u001b[0m\u001b[7m0\u001b[0m\u001b[7m0\u001b[0m\u001b[7m0\u001b[0m\u001b[7m0\u001b[0m\u001b[7m0\u001b[0m\u001b[7m0\u001b[0m\u001b[7m0\u001b[0m\u001b[7m0\u001b[0m\u001b[7m0\u001b[0m\u001b[7m0\u001b[0m\u001b[7m0\u001b[0m\u001b[7m0\u001b[0m\u001b[7m0\u001b[0m\u001b[7m0\u001b[0m\u001b[7m0\u001b[0m\u001b[7m0\u001b[0m\u001b[7m0\u001b[0m\u001b[7m0\u001b[0m\u001b[7m0\u001b[0m\u001b[7m0\u001b[0m\u001b[7m0\u001b[0m\u001b[7m0\u001b[0m\n"
     ]
    }
   ],
   "source": [
    "img_binary(bw)"
   ]
  },
  {
   "cell_type": "code",
   "execution_count": null,
   "id": "0346040a",
   "metadata": {},
   "outputs": [],
   "source": []
  }
 ],
 "metadata": {
  "kernelspec": {
   "display_name": "Python 3 (ipykernel)",
   "language": "python",
   "name": "python3"
  },
  "language_info": {
   "codemirror_mode": {
    "name": "ipython",
    "version": 3
   },
   "file_extension": ".py",
   "mimetype": "text/x-python",
   "name": "python",
   "nbconvert_exporter": "python",
   "pygments_lexer": "ipython3",
   "version": "3.8.12"
  }
 },
 "nbformat": 4,
 "nbformat_minor": 5
}
